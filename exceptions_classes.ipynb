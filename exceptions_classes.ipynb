{
  "nbformat": 4,
  "nbformat_minor": 0,
  "metadata": {
    "colab": {
      "provenance": []
    },
    "kernelspec": {
      "name": "python3",
      "display_name": "Python 3"
    },
    "language_info": {
      "name": "python"
    }
  },
  "cells": [
    {
      "cell_type": "markdown",
      "source": [
        "## Exceptions"
      ],
      "metadata": {
        "id": "OJYYEYkWayk2"
      }
    },
    {
      "cell_type": "code",
      "source": [
        "# Declaration of the function\n",
        "def square_number(number):\n",
        "    result = number**2\n",
        "    print('The square of ', number, ' is ', result)\n",
        "\n",
        "# Calls to the function: The code contained in the function is executed in this step.\n",
        "square_number(3)\n",
        "square_number(4)\n",
        "square_number(12)"
      ],
      "metadata": {
        "colab": {
          "base_uri": "https://localhost:8080/"
        },
        "id": "-U774AlUX07p",
        "outputId": "63fbbccb-f91e-4a38-f2d8-c86cec2cf188"
      },
      "execution_count": null,
      "outputs": [
        {
          "output_type": "stream",
          "name": "stdout",
          "text": [
            "The square of  3  is  9\n",
            "The square of  4  is  16\n",
            "The square of  12  is  144\n"
          ]
        }
      ]
    },
    {
      "cell_type": "code",
      "source": [
        "def square_number(number):\n",
        "    result = number**2\n",
        "    return result\n",
        "\n",
        "# This will produce an error :\n",
        "square_number(\"Hello\")\n",
        "\n",
        "# As the code has bugged, the following instructions in the cell will never be executed :\n",
        "print(\"this will not display\")"
      ],
      "metadata": {
        "colab": {
          "base_uri": "https://localhost:8080/",
          "height": 332
        },
        "id": "d0-NVKIgX80Z",
        "outputId": "501a012c-3e16-4372-9b98-665149108e8b"
      },
      "execution_count": null,
      "outputs": [
        {
          "output_type": "error",
          "ename": "TypeError",
          "evalue": "unsupported operand type(s) for ** or pow(): 'str' and 'int'",
          "traceback": [
            "\u001b[0;31m---------------------------------------------------------------------------\u001b[0m",
            "\u001b[0;31mTypeError\u001b[0m                                 Traceback (most recent call last)",
            "\u001b[0;32m<ipython-input-2-9342b984f039>\u001b[0m in \u001b[0;36m<cell line: 6>\u001b[0;34m()\u001b[0m\n\u001b[1;32m      4\u001b[0m \u001b[0;34m\u001b[0m\u001b[0m\n\u001b[1;32m      5\u001b[0m \u001b[0;31m# This will produce an error :\u001b[0m\u001b[0;34m\u001b[0m\u001b[0;34m\u001b[0m\u001b[0m\n\u001b[0;32m----> 6\u001b[0;31m \u001b[0msquare_number\u001b[0m\u001b[0;34m(\u001b[0m\u001b[0;34m\"Hello\"\u001b[0m\u001b[0;34m)\u001b[0m\u001b[0;34m\u001b[0m\u001b[0;34m\u001b[0m\u001b[0m\n\u001b[0m\u001b[1;32m      7\u001b[0m \u001b[0;34m\u001b[0m\u001b[0m\n\u001b[1;32m      8\u001b[0m \u001b[0;31m# As the code has bugged, the following instructions in the cell will never be executed :\u001b[0m\u001b[0;34m\u001b[0m\u001b[0;34m\u001b[0m\u001b[0m\n",
            "\u001b[0;32m<ipython-input-2-9342b984f039>\u001b[0m in \u001b[0;36msquare_number\u001b[0;34m(number)\u001b[0m\n\u001b[1;32m      1\u001b[0m \u001b[0;32mdef\u001b[0m \u001b[0msquare_number\u001b[0m\u001b[0;34m(\u001b[0m\u001b[0mnumber\u001b[0m\u001b[0;34m)\u001b[0m\u001b[0;34m:\u001b[0m\u001b[0;34m\u001b[0m\u001b[0;34m\u001b[0m\u001b[0m\n\u001b[0;32m----> 2\u001b[0;31m     \u001b[0mresult\u001b[0m \u001b[0;34m=\u001b[0m \u001b[0mnumber\u001b[0m\u001b[0;34m**\u001b[0m\u001b[0;36m2\u001b[0m\u001b[0;34m\u001b[0m\u001b[0;34m\u001b[0m\u001b[0m\n\u001b[0m\u001b[1;32m      3\u001b[0m     \u001b[0;32mreturn\u001b[0m \u001b[0mresult\u001b[0m\u001b[0;34m\u001b[0m\u001b[0;34m\u001b[0m\u001b[0m\n\u001b[1;32m      4\u001b[0m \u001b[0;34m\u001b[0m\u001b[0m\n\u001b[1;32m      5\u001b[0m \u001b[0;31m# This will produce an error :\u001b[0m\u001b[0;34m\u001b[0m\u001b[0;34m\u001b[0m\u001b[0m\n",
            "\u001b[0;31mTypeError\u001b[0m: unsupported operand type(s) for ** or pow(): 'str' and 'int'"
          ]
        }
      ]
    },
    {
      "cell_type": "markdown",
      "source": [
        "You may want to \"handle\" this error (or exception) to prevent it from creating a bug in your code. This is possible in python with the try/except clause:\n",
        "\n",
        "```python\n",
        "try:\n",
        "    error-prone instructions\n",
        "except:\n",
        "    instructions to execute if error (instead of bugging)\n",
        "else:\n",
        "    instructions to be executed if no error\n",
        "```\n",
        "\n",
        "In our example with `square_number()`, this translates as follows:"
      ],
      "metadata": {
        "id": "i9OoU_r8YDJz"
      }
    },
    {
      "cell_type": "code",
      "source": [
        "def square_number(number):\n",
        "    try:\n",
        "        result = number**2 # will bug if number is a string of characters\n",
        "    except:\n",
        "        # If there is an error, display this sentence instead of bugging :\n",
        "        print(\"This value is not valid. Please enter a number\")\n",
        "    else:\n",
        "        # If there was no error, you can display the result\n",
        "        print('The square of ', number, ' is ', result)\n",
        "        return result\n",
        "\n",
        "# Now, calling the function with a wrong argument will no longer produce a bug. :\n",
        "square_number('hello')\n",
        "\n",
        "print(\"We handled the exception, so python doesn't bug anymore and this sentence will display\")"
      ],
      "metadata": {
        "colab": {
          "base_uri": "https://localhost:8080/"
        },
        "id": "wnlPprrOYFfG",
        "outputId": "8371de39-ccf5-48c9-b762-0b4ba778386a"
      },
      "execution_count": null,
      "outputs": [
        {
          "output_type": "stream",
          "name": "stdout",
          "text": [
            "This value is not valid. Please enter a number\n",
            "We handled the exception, so python doesn't bug anymore and this sentence will display\n"
          ]
        }
      ]
    },
    {
      "cell_type": "code",
      "source": [
        "def share_addition():\n",
        "    try:\n",
        "        total_addition = float(input(\"what is the total amount of the bill ?\"))\n",
        "        total_persons = float(input(\"what is the total number of guests ?\"))\n",
        "        amount_per_person = total_addition/total_persons\n",
        "    except ValueError: # happens if the user types something other than numbers.\n",
        "        print('Please recall the function and only give positive numbers.')\n",
        "    except ZeroDivisionError: # happens if the user enters \"0\" as the number of guests.\n",
        "        print('Please call back the function and give a number of guests > 0')\n",
        "    else:\n",
        "        print(\"the amount per person is {:4.2f}\".format(amount_per_person))"
      ],
      "metadata": {
        "id": "aR_7-BjgYgpl"
      },
      "execution_count": null,
      "outputs": []
    },
    {
      "cell_type": "code",
      "source": [
        "share_addition()"
      ],
      "metadata": {
        "colab": {
          "base_uri": "https://localhost:8080/"
        },
        "id": "8-FgYotEYnQD",
        "outputId": "d20bb98c-027e-4ade-8afb-5ae1e076f014"
      },
      "execution_count": null,
      "outputs": [
        {
          "output_type": "stream",
          "name": "stdout",
          "text": [
            "what is the total amount of the bill ?12\n",
            "what is the total number of guests ?0\n",
            "Please call back the function and give a number of guests > 0\n"
          ]
        }
      ]
    },
    {
      "cell_type": "code",
      "source": [
        "def share_addition():\n",
        "    try:\n",
        "        total_addition = float(input(\"what is the total amount of the bill ?\"))\n",
        "        total_persons = float(input(\"what is the total number of guests ?\"))\n",
        "        amount_per_person = total_addition/total_persons\n",
        "    except ValueError as e: # we use the alias to retrieve the error text.\n",
        "        print(e)\n",
        "    except ZeroDivisionError as e: # we use the alias to retrieve the error text.\n",
        "        print(e)\n",
        "    else:\n",
        "        print(\"the amount per person is {:4.2f}\".format(amount_per_person))"
      ],
      "metadata": {
        "id": "RdSe8vxNYuhT"
      },
      "execution_count": null,
      "outputs": []
    },
    {
      "cell_type": "code",
      "source": [
        "share_addition()"
      ],
      "metadata": {
        "colab": {
          "base_uri": "https://localhost:8080/"
        },
        "id": "unCO9k1JYy7r",
        "outputId": "30b968c8-f80d-4876-8e27-dd693ad7f1bc"
      },
      "execution_count": null,
      "outputs": [
        {
          "output_type": "stream",
          "name": "stdout",
          "text": [
            "what is the total amount of the bill ?12\n",
            "what is the total number of guests ?0\n",
            "float division by zero\n"
          ]
        }
      ]
    },
    {
      "cell_type": "markdown",
      "source": [
        "### Create your own exceptions\n",
        "\n",
        "Finally, you can create your own exception when a user can enter values that are not technically wrong in the program but do not make sense for your application. For example, with the addition share function, it should not be possible to enter negative values, even if the program as built above would accept them. In this case, you can use the `raise' statement:\n",
        "\n",
        "```python\n",
        "if (condition_which_must_create_the_mistake):\n",
        "    raise Exception(\"message\")\n",
        "```"
      ],
      "metadata": {
        "id": "IElNea8hY3rZ"
      }
    },
    {
      "cell_type": "code",
      "source": [
        "share_addition()"
      ],
      "metadata": {
        "colab": {
          "base_uri": "https://localhost:8080/"
        },
        "id": "TaOddPL3alo6",
        "outputId": "29435734-f718-4f1d-a6a8-9484533d2ca9"
      },
      "execution_count": null,
      "outputs": [
        {
          "output_type": "stream",
          "name": "stdout",
          "text": [
            "what is the total amount of the bill ?-133\n",
            "what is the total number of guests ?2\n",
            "the amount per person is -66.50\n"
          ]
        }
      ]
    },
    {
      "cell_type": "code",
      "source": [
        "# We use \"raise\" to waive an exception\n",
        "def share_addition():\n",
        "    try:\n",
        "        total_addition = float(input(\"what is the total amount of the bill ?\"))\n",
        "        total_persons = float(input(\"what is the total number of people ?\"))\n",
        "\n",
        "        if (total_addition < 0) or (total_persons < 0):\n",
        "            raise ValueError()\n",
        "\n",
        "        amount_per_person = total_addition/total_persons\n",
        "    except ValueError:\n",
        "        print('Please recall the function and only give positive numbers.')\n",
        "    except ZeroDivisionError:\n",
        "        print('Please call back the function and give a number of guests > 0')\n",
        "    else:\n",
        "        print(\"the amount per person is {:4.2f}\".format(amount_per_person))"
      ],
      "metadata": {
        "id": "4rD_4M-gasCV"
      },
      "execution_count": null,
      "outputs": []
    },
    {
      "cell_type": "markdown",
      "source": [
        "## Classes and objects"
      ],
      "metadata": {
        "id": "XEdQ4vAIbVwy"
      }
    },
    {
      "cell_type": "markdown",
      "source": [
        "### Create a class with its attributes and methods\n",
        "\n",
        "The syntax for creating a class will always be as follows:\n",
        "\n",
        "```python\n",
        "class Name_of_the_class():\n",
        "    def __init__(self, arguments_init): # special method for initializing internal attributes (optional if no internal attributes)\n",
        "        self.name_attribute1 = ...\n",
        "        self.name_attribute2 = ...\n",
        "        \n",
        "    def methode1(self, arguments_methode1):\n",
        "        instructions\n",
        "        return ... # optional\n",
        "    \n",
        "    def methode2(self, arguments_methode2):\n",
        "        instructions\n",
        "        return ... # optional\n",
        "        \n",
        "```\n",
        "\n",
        "The __init__() method is a special method: it is the one that will be called each time a class instance is created. It determines how the attributes will be initialized. As soon as your class contains internal attributes, you should think about defining the __init()__. Sometimes you may create a class that has no internal attributes. In this case, you don't need the __init()__.\n",
        "\n",
        "Once the class has been declared, we will be able to create as many instances of the class as we want, in the following way:\n",
        "\n",
        "```python\n",
        "name_instance1 = Name_of_the_class(arguments_init)\n",
        "name_instance2 = Name_of_the_class(arguments_init)\n",
        "```\n",
        "\n",
        "Once the class instance has been created, its internal attributes can then be accessed in this way :\n",
        "```python\n",
        "name_instance1.name_attribute1\n",
        "```\n",
        "\n",
        "Finally, for each instance, it will be possible to call the methods declared within the class, in this way :\n",
        "\n",
        "```python\n",
        "name_instance1.methode1(arguments_methode1)\n",
        "```\n",
        "\n",
        "**Note**: each method defined in the class has a list of arguments that starts with a particular keyword, denoted `self`. In python, `self` represents the instance of the class and is always the first argument to a method. It is because we write `methode1(self,...)` that we can then call the method with a dot: `instance_name1.method1(...)`. If you forget the `self' argument when defining the method, you will get an error when trying to call the method."
      ],
      "metadata": {
        "id": "fukzKOq7bixv"
      }
    },
    {
      "cell_type": "code",
      "source": [
        "# Definition of a Garage class with its attributes and methods\n",
        "\n",
        "class Garage():\n",
        "    # Attribute initialization - we use a special method: __init__()\n",
        "    def __init__(self):\n",
        "        self.employes = 0\n"
      ],
      "metadata": {
        "id": "M-LVVHfWblbB"
      },
      "execution_count": null,
      "outputs": []
    },
    {
      "cell_type": "code",
      "source": [
        "# Declaration of two instances of class Garage\n",
        "garage1 = Garage() # this is an instance\n",
        "garage2 = Garage()"
      ],
      "metadata": {
        "id": "g3r-sO6AbtYq"
      },
      "execution_count": null,
      "outputs": []
    },
    {
      "cell_type": "code",
      "source": [
        "print(garage1)"
      ],
      "metadata": {
        "colab": {
          "base_uri": "https://localhost:8080/"
        },
        "id": "_upRDHYVbyOE",
        "outputId": "ced04c6d-e0db-4f84-9e34-5c26447db80c"
      },
      "execution_count": null,
      "outputs": [
        {
          "output_type": "stream",
          "name": "stdout",
          "text": [
            "<__main__.Garage object at 0x798d5c3dcd60>\n"
          ]
        }
      ]
    },
    {
      "cell_type": "code",
      "source": [
        "# Definition of a Garage class with its attributes and methods\n",
        "\n",
        "class Garage():\n",
        "    # Attribute initialization - we use a special method: __init__()\n",
        "    def __init__(self):\n",
        "        self.employes = 0\n",
        "\n",
        "    def display_information(self):\n",
        "        print(\"Employees: \", self.employes)\n"
      ],
      "metadata": {
        "id": "Ih-B9Awwbz9Q"
      },
      "execution_count": null,
      "outputs": []
    },
    {
      "cell_type": "code",
      "source": [
        "# Declaration of two instances of class Garage\n",
        "garage1 = Garage() # this is an instance\n",
        "garage2 = Garage()"
      ],
      "metadata": {
        "id": "83uUJxqXb-wH"
      },
      "execution_count": null,
      "outputs": []
    },
    {
      "cell_type": "code",
      "source": [
        "print(garage1)"
      ],
      "metadata": {
        "colab": {
          "base_uri": "https://localhost:8080/"
        },
        "id": "qy_J7wEMcBnv",
        "outputId": "ca456efc-0053-4f31-c8ca-79a4d080790a"
      },
      "execution_count": null,
      "outputs": [
        {
          "output_type": "stream",
          "name": "stdout",
          "text": [
            "<__main__.Garage object at 0x798d5c3df970>\n"
          ]
        }
      ]
    },
    {
      "cell_type": "code",
      "source": [
        "# At any time, the method affiche_informations() can be used to check the status of internal attributes :\n",
        "print('--- Garage 1 ---')\n",
        "garage1.display_information()\n",
        "print('--- Garage 2 ---')\n",
        "garage2.display_information()"
      ],
      "metadata": {
        "colab": {
          "base_uri": "https://localhost:8080/"
        },
        "id": "31rB0bUZcFlU",
        "outputId": "905cef8c-3b56-4419-b541-eac761de03d8"
      },
      "execution_count": null,
      "outputs": [
        {
          "output_type": "stream",
          "name": "stdout",
          "text": [
            "--- Garage 1 ---\n",
            "Employees:  0\n",
            "--- Garage 2 ---\n",
            "Employees:  0\n"
          ]
        }
      ]
    },
    {
      "cell_type": "code",
      "source": [
        "# Definition of a Garage class with its attributes and methods\n",
        "\n",
        "class Garage():\n",
        "    # Attribute initialization - we use a special method: __init__()\n",
        "    def __init__(self):\n",
        "        self.employes = 0\n",
        "\n",
        "    # Declaration/definition of methods\n",
        "    def recrute_employees(self, number_employees):\n",
        "        self.employes += number_employees\n",
        "\n",
        "    def dismissed_employees(self, number_employees):\n",
        "        self.employes -= number_employees\n",
        "\n",
        "    def display_information(self):\n",
        "        print(\"Employees: \", self.employes)"
      ],
      "metadata": {
        "id": "0q_X8EFjcYyf"
      },
      "execution_count": null,
      "outputs": []
    },
    {
      "cell_type": "code",
      "source": [
        "garage1 = Garage()\n",
        "garage2 = Garage()"
      ],
      "metadata": {
        "id": "_LCQERy-dJ1x"
      },
      "execution_count": null,
      "outputs": []
    },
    {
      "cell_type": "code",
      "source": [
        "# We're recruiting 3 employees in Garage 1\n",
        "garage1.recrute_employees(3)\n",
        "# We're recruiting 2 employees in Garage 2\n",
        "garage2.recrute_employees(2)\n",
        "\n",
        "print('--- Garage 1 ---')\n",
        "garage1.display_information()\n",
        "print('-'*40)\n",
        "\n",
        "print('--- Garage 2 ---')\n",
        "garage2.display_information()"
      ],
      "metadata": {
        "colab": {
          "base_uri": "https://localhost:8080/"
        },
        "id": "IEVTi_qnczdy",
        "outputId": "60ed1204-728a-466a-fc61-0f6cb26ce221"
      },
      "execution_count": null,
      "outputs": [
        {
          "output_type": "stream",
          "name": "stdout",
          "text": [
            "--- Garage 1 ---\n",
            "Employees:  3\n",
            "----------------------------------------\n",
            "--- Garage 2 ---\n",
            "Employees:  2\n"
          ]
        }
      ]
    },
    {
      "cell_type": "code",
      "source": [
        "# We're laying off 2 employees in garage 1\n",
        "garage1.dismissed_employees(2)\n",
        "print('--- Garage 1 ---')\n",
        "garage1.display_information()\n",
        "\n",
        "print('-'*40)\n",
        "\n",
        "\n",
        "print('--- Garage 2 ---')\n",
        "garage2.display_information()"
      ],
      "metadata": {
        "colab": {
          "base_uri": "https://localhost:8080/"
        },
        "id": "GdOse9L3dQMy",
        "outputId": "86650df0-dd56-45a5-d352-26d21aedca48"
      },
      "execution_count": null,
      "outputs": [
        {
          "output_type": "stream",
          "name": "stdout",
          "text": [
            "--- Garage 1 ---\n",
            "Employees:  1\n",
            "----------------------------------------\n",
            "--- Garage 2 ---\n",
            "Employees:  2\n"
          ]
        }
      ]
    },
    {
      "cell_type": "code",
      "source": [
        "garage1.dismissed_employees(5)\n",
        "garage1.display_information()"
      ],
      "metadata": {
        "colab": {
          "base_uri": "https://localhost:8080/"
        },
        "id": "jsvVN4kVdTYc",
        "outputId": "3b2d8107-e2a5-4952-9a73-65eb67d86c8a"
      },
      "execution_count": null,
      "outputs": [
        {
          "output_type": "stream",
          "name": "stdout",
          "text": [
            "Employees:  -4\n"
          ]
        }
      ]
    },
    {
      "cell_type": "code",
      "source": [
        "# We re-declare the Garage class by changing the redundant_employees method\n",
        "\n",
        "class Garage():\n",
        "    # Attribute initialization - a special method is used: __init__()\n",
        "    # Here, all instances of the Garage class will be initialized to zero\n",
        "    def __init__(self):\n",
        "        self.employees = 0\n",
        "\n",
        "    # Declaration/definition of methods\n",
        "    def recruit_employees(self, number_employees):\n",
        "        self.employees += number_employees\n",
        "\n",
        "    def dismissed_employees(self, number_employees):\n",
        "        if number_employees > self.employees:\n",
        "            raise ValueError(\"There are currently {} employees in the garage. You can't fire any of them.\"\n",
        "                            .format(self.employees, number_employees))\n",
        "        else:\n",
        "            self.employees -= number_employees\n",
        "\n",
        "    def display_information(self):\n",
        "        print(\"Employees : \", self.employees)\n"
      ],
      "metadata": {
        "id": "CEJBtNhodWFW"
      },
      "execution_count": null,
      "outputs": []
    },
    {
      "cell_type": "code",
      "source": [
        "# Let's declare instances of this new class :\n",
        "garage1 = Garage()\n",
        "garage2 = Garage()\n",
        "garage1.recruit_employees(3)\n",
        "garage2.recruit_employees(2)\n",
        "\n",
        "print('--- Garage 1 ---')\n",
        "garage1.display_information()\n",
        "print('--- Garage 2 ---')\n",
        "garage2.display_information()"
      ],
      "metadata": {
        "colab": {
          "base_uri": "https://localhost:8080/"
        },
        "id": "MEyscctJddUK",
        "outputId": "7f19346b-1fcf-479a-c519-93ed40b9f75b"
      },
      "execution_count": null,
      "outputs": [
        {
          "output_type": "stream",
          "name": "stdout",
          "text": [
            "--- Garage 1 ---\n",
            "Employees :  3\n",
            "--- Garage 2 ---\n",
            "Employees :  2\n"
          ]
        }
      ]
    },
    {
      "cell_type": "code",
      "source": [
        "# The code above produces an error\n",
        "garage2.dismissed_employees(4)"
      ],
      "metadata": {
        "colab": {
          "base_uri": "https://localhost:8080/",
          "height": 280
        },
        "id": "TNqKwdLWdg3s",
        "outputId": "b4f341b9-b824-4f76-b014-104e818db1b5"
      },
      "execution_count": null,
      "outputs": [
        {
          "output_type": "error",
          "ename": "ValueError",
          "evalue": "There are currently 2 employees in the garage. You can't fire any of them.",
          "traceback": [
            "\u001b[0;31m---------------------------------------------------------------------------\u001b[0m",
            "\u001b[0;31mValueError\u001b[0m                                Traceback (most recent call last)",
            "\u001b[0;32m<ipython-input-9-af9c43e508ee>\u001b[0m in \u001b[0;36m<cell line: 2>\u001b[0;34m()\u001b[0m\n\u001b[1;32m      1\u001b[0m \u001b[0;31m# The code above produces an error\u001b[0m\u001b[0;34m\u001b[0m\u001b[0;34m\u001b[0m\u001b[0m\n\u001b[0;32m----> 2\u001b[0;31m \u001b[0mgarage2\u001b[0m\u001b[0;34m.\u001b[0m\u001b[0mdismissed_employees\u001b[0m\u001b[0;34m(\u001b[0m\u001b[0;36m4\u001b[0m\u001b[0;34m)\u001b[0m\u001b[0;34m\u001b[0m\u001b[0;34m\u001b[0m\u001b[0m\n\u001b[0m",
            "\u001b[0;32m<ipython-input-7-f1516789e1ee>\u001b[0m in \u001b[0;36mdismissed_employees\u001b[0;34m(self, number_employees)\u001b[0m\n\u001b[1;32m     13\u001b[0m     \u001b[0;32mdef\u001b[0m \u001b[0mdismissed_employees\u001b[0m\u001b[0;34m(\u001b[0m\u001b[0mself\u001b[0m\u001b[0;34m,\u001b[0m \u001b[0mnumber_employees\u001b[0m\u001b[0;34m)\u001b[0m\u001b[0;34m:\u001b[0m\u001b[0;34m\u001b[0m\u001b[0;34m\u001b[0m\u001b[0m\n\u001b[1;32m     14\u001b[0m         \u001b[0;32mif\u001b[0m \u001b[0mnumber_employees\u001b[0m \u001b[0;34m>\u001b[0m \u001b[0mself\u001b[0m\u001b[0;34m.\u001b[0m\u001b[0memployees\u001b[0m\u001b[0;34m:\u001b[0m\u001b[0;34m\u001b[0m\u001b[0;34m\u001b[0m\u001b[0m\n\u001b[0;32m---> 15\u001b[0;31m             raise ValueError(\"There are currently {} employees in the garage. You can't fire any of them.\"\n\u001b[0m\u001b[1;32m     16\u001b[0m                             .format(self.employees, number_employees))\n\u001b[1;32m     17\u001b[0m         \u001b[0;32melse\u001b[0m\u001b[0;34m:\u001b[0m\u001b[0;34m\u001b[0m\u001b[0;34m\u001b[0m\u001b[0m\n",
            "\u001b[0;31mValueError\u001b[0m: There are currently 2 employees in the garage. You can't fire any of them."
          ]
        }
      ]
    },
    {
      "cell_type": "code",
      "source": [
        "try:\n",
        "    garage2.dismissed_employees(4)\n",
        "except ValueError as e:\n",
        "    print(\"Unable to update the number of employees. Error returned by the method :\")\n",
        "    print(e)\n"
      ],
      "metadata": {
        "colab": {
          "base_uri": "https://localhost:8080/"
        },
        "id": "CUqKgD_9dl7t",
        "outputId": "2ede328d-b1a4-42e5-efbc-5859c19b8e45"
      },
      "execution_count": null,
      "outputs": [
        {
          "output_type": "stream",
          "name": "stdout",
          "text": [
            "Unable to update the number of employees. Error returned by the method :\n",
            "There are currently 2 employees in the garage. You can't fire any of them.\n"
          ]
        }
      ]
    },
    {
      "cell_type": "code",
      "source": [
        "# Definition of the class with its attributes and methods\n",
        "\n",
        "class Garage():\n",
        "    # Attribute initialization - a special method is used: __init__()\n",
        "    # Here, all instances of the Garage class will be initialized to zero\n",
        "    def __init__(self):\n",
        "        self.employees = 0\n",
        "        self.clients = 0\n",
        "        self.cars_to_repair = 0\n",
        "        self.cars_repaired = 0\n",
        "\n",
        "    # Declaration/definition of methods\n",
        "    def recruit_employees(self, number_employees):\n",
        "        self.employees += number_employees\n",
        "\n",
        "    def dismissed_employees(self, number_employees):\n",
        "        if number_employees > self.employees:\n",
        "            raise ValueError(\"There are currently {} employees in the garage. You can't fire any of them.\"\n",
        "                            .format(self.employees, number_employees))\n",
        "        self.employees -= numbrer_employees\n",
        "\n",
        "    def client_bring_cars(self, number_cars, new_client): # Multi-argument method\n",
        "        self.cars_to_repair += number_cars\n",
        "        if new_client: # if the new_client variable is True\n",
        "            self.clients += 1\n",
        "\n",
        "    def repare_cars(self, nb_cars):\n",
        "        if nb_cars > self.cars_to_repair :\n",
        "            raise ValueError(\"There are currently {} cars in the garage. You can't fix them. {}\"\n",
        "                            .format(self.cars_to_repair, nb_cars))\n",
        "        self.cars_repaired += nb_cars\n",
        "        self.cars_to_repair -= nb_cars\n",
        "\n",
        "    def display_information(self):\n",
        "        print(\"Employees : \", self.employees)\n",
        "        print(\"Clients : \", self.clients)\n",
        "        print(\"Cars to repare : \", self.cars_to_repair)\n",
        "        print(\"Cars repaired : \", self.cars_repaired)\n"
      ],
      "metadata": {
        "id": "8Wl5U8zzdv3U"
      },
      "execution_count": null,
      "outputs": []
    },
    {
      "cell_type": "code",
      "source": [
        "# Let's declare an instance of this new class :\n",
        "garage1 = Garage()\n",
        "# We are recruiting 3 employees\n",
        "garage1.recruit_employees(3)\n",
        "# A customer brings his car into the garage1\n",
        "garage1.client_bring_cars(1,new_client=True)\n",
        "# Same customer comes back with another car to repair.\n",
        "garage1.client_bring_cars(1, new_client=False)\n",
        "# Another customer brings two cars\n",
        "garage1.client_bring_cars(2,new_client=True)\n",
        "print('--- Garage 1 ---')\n",
        "garage1.display_information()"
      ],
      "metadata": {
        "colab": {
          "base_uri": "https://localhost:8080/"
        },
        "id": "Zy5WvJWsd9II",
        "outputId": "35203516-014b-4ead-84c8-c9dffb355aa2"
      },
      "execution_count": null,
      "outputs": [
        {
          "output_type": "stream",
          "name": "stdout",
          "text": [
            "--- Garage 1 ---\n",
            "Employees :  3\n",
            "Clients :  2\n",
            "Cars to repare :  4\n",
            "Cars repaired :  0\n"
          ]
        }
      ]
    },
    {
      "cell_type": "code",
      "source": [
        "# The employees are repairing 3 cars :\n",
        "garage1.repare_cars(3)\n",
        "print('--- Garage 1 ---')\n",
        "garage1.display_information()"
      ],
      "metadata": {
        "colab": {
          "base_uri": "https://localhost:8080/"
        },
        "id": "1j_ff4feeDx3",
        "outputId": "f7964582-e6dc-4d1f-e888-fae96cc278b8"
      },
      "execution_count": null,
      "outputs": [
        {
          "output_type": "stream",
          "name": "stdout",
          "text": [
            "--- Garage 1 ---\n",
            "Employees :  3\n",
            "Clients :  2\n",
            "Cars to repare :  1\n",
            "Cars repaired :  3\n"
          ]
        }
      ]
    },
    {
      "cell_type": "code",
      "source": [
        "# Definition of the class with its attributes and methods\n",
        "\n",
        "class Garage():\n",
        "    # Attribute initialization - using a special method : __init__()\n",
        "    # Here, default arguments have been added\n",
        "    def __init__(self, employees = 0, clients = 0, cars_to_repair = 0, cars_repaired = 0):\n",
        "        self.employees = employees\n",
        "        self.clients = clients\n",
        "        self.cars_to_repair = cars_to_repair\n",
        "        self.cars_repaired = cars_repaired\n",
        "\n",
        "    # Declaration/definition of methods\n",
        "    def recruit_employees(self, number_employees):\n",
        "        self.employees += number_employees\n",
        "\n",
        "    def dismissed_employee(self, number_employees):\n",
        "        if number_employees > self.employees:\n",
        "            raise ValueError(\"There are currently {} employees in the garage. You can't fire any of them. {}\"\n",
        "                            .format(self.employees, number_employees))\n",
        "        self.employees -= number_employees\n",
        "\n",
        "    def client_bring_cars(self, number_cars, new_client):\n",
        "        self.cars_to_repair += number_cars\n",
        "        if new_client:\n",
        "            self.clients += 1\n",
        "\n",
        "    def cars_repaired(self, nb_cars):\n",
        "        if nb_cars > self.cars_to_repair :\n",
        "            raise ValueError(\"There are currently {} cars in the garage. You can't fix them. {}\"\n",
        "                            .format(self.cars_to_repair, nb_cars))\n",
        "        self.cars_repaired += nb_cars\n",
        "        self.cars_to_repair -= nb_cars\n",
        "\n",
        "    def display_information(self):\n",
        "        print(\"Employees : \", self.employees)\n",
        "        print(\"Clients : \", self.clients)\n",
        "        print(\"Cars to repair : \", self.cars_to_repair)\n",
        "        print(\"Cars repaired : \", self.cars_repaired)\n"
      ],
      "metadata": {
        "id": "eoaZtdWGeJSu"
      },
      "execution_count": null,
      "outputs": []
    },
    {
      "cell_type": "code",
      "source": [
        "# We can now create an instance of the Garage class like this :\n",
        "garage1 = Garage()\n",
        "# Or by specifying values for the attributes :\n",
        "garage2 = Garage(4, 2, 3, 1)\n",
        "\n",
        "print('--- Garage 1 ---')\n",
        "garage1.display_information()\n",
        "print('--- Garage 2 ---')\n",
        "garage2.display_information()"
      ],
      "metadata": {
        "id": "EG1AvB6heLm0",
        "outputId": "4dcb9974-25d3-4e6c-92bb-be88c969d61d",
        "colab": {
          "base_uri": "https://localhost:8080/"
        }
      },
      "execution_count": null,
      "outputs": [
        {
          "output_type": "stream",
          "name": "stdout",
          "text": [
            "--- Garage 1 ---\n",
            "Employees :  0\n",
            "Clients :  0\n",
            "Cars to repair :  0\n",
            "Cars repaired :  0\n",
            "--- Garage 2 ---\n",
            "Employees :  4\n",
            "Clients :  2\n",
            "Cars to repair :  3\n",
            "Cars repaired :  1\n"
          ]
        }
      ]
    }
  ]
}